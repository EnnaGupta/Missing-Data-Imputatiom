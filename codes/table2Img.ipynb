{
  "nbformat": 4,
  "nbformat_minor": 0,
  "metadata": {
    "colab": {
      "provenance": []
    },
    "kernelspec": {
      "name": "python3",
      "display_name": "Python 3"
    },
    "language_info": {
      "name": "python"
    }
  },
  "cells": [
    {
      "cell_type": "code",
      "execution_count": null,
      "metadata": {
        "colab": {
          "base_uri": "https://localhost:8080/"
        },
        "id": "LTaGb6jkFjkr",
        "outputId": "c24ecd73-3b92-43e2-971b-415e518d506b"
      },
      "outputs": [
        {
          "output_type": "stream",
          "name": "stdout",
          "text": [
            "Requirement already satisfied: pandas in /usr/local/lib/python3.10/dist-packages (1.5.3)\n",
            "Requirement already satisfied: python-dateutil>=2.8.1 in /usr/local/lib/python3.10/dist-packages (from pandas) (2.8.2)\n",
            "Requirement already satisfied: pytz>=2020.1 in /usr/local/lib/python3.10/dist-packages (from pandas) (2022.7.1)\n",
            "Requirement already satisfied: numpy>=1.21.0 in /usr/local/lib/python3.10/dist-packages (from pandas) (1.22.4)\n",
            "Requirement already satisfied: six>=1.5 in /usr/local/lib/python3.10/dist-packages (from python-dateutil>=2.8.1->pandas) (1.16.0)\n",
            "Requirement already satisfied: matplotlib in /usr/local/lib/python3.10/dist-packages (3.7.1)\n",
            "Requirement already satisfied: contourpy>=1.0.1 in /usr/local/lib/python3.10/dist-packages (from matplotlib) (1.1.0)\n",
            "Requirement already satisfied: cycler>=0.10 in /usr/local/lib/python3.10/dist-packages (from matplotlib) (0.11.0)\n",
            "Requirement already satisfied: fonttools>=4.22.0 in /usr/local/lib/python3.10/dist-packages (from matplotlib) (4.40.0)\n",
            "Requirement already satisfied: kiwisolver>=1.0.1 in /usr/local/lib/python3.10/dist-packages (from matplotlib) (1.4.4)\n",
            "Requirement already satisfied: numpy>=1.20 in /usr/local/lib/python3.10/dist-packages (from matplotlib) (1.22.4)\n",
            "Requirement already satisfied: packaging>=20.0 in /usr/local/lib/python3.10/dist-packages (from matplotlib) (23.1)\n",
            "Requirement already satisfied: pillow>=6.2.0 in /usr/local/lib/python3.10/dist-packages (from matplotlib) (8.4.0)\n",
            "Requirement already satisfied: pyparsing>=2.3.1 in /usr/local/lib/python3.10/dist-packages (from matplotlib) (3.1.0)\n",
            "Requirement already satisfied: python-dateutil>=2.7 in /usr/local/lib/python3.10/dist-packages (from matplotlib) (2.8.2)\n",
            "Requirement already satisfied: six>=1.5 in /usr/local/lib/python3.10/dist-packages (from python-dateutil>=2.7->matplotlib) (1.16.0)\n",
            "Requirement already satisfied: numpy in /usr/local/lib/python3.10/dist-packages (1.22.4)\n",
            "Requirement already satisfied: seaborn in /usr/local/lib/python3.10/dist-packages (0.12.2)\n",
            "Requirement already satisfied: numpy!=1.24.0,>=1.17 in /usr/local/lib/python3.10/dist-packages (from seaborn) (1.22.4)\n",
            "Requirement already satisfied: pandas>=0.25 in /usr/local/lib/python3.10/dist-packages (from seaborn) (1.5.3)\n",
            "Requirement already satisfied: matplotlib!=3.6.1,>=3.1 in /usr/local/lib/python3.10/dist-packages (from seaborn) (3.7.1)\n",
            "Requirement already satisfied: contourpy>=1.0.1 in /usr/local/lib/python3.10/dist-packages (from matplotlib!=3.6.1,>=3.1->seaborn) (1.1.0)\n",
            "Requirement already satisfied: cycler>=0.10 in /usr/local/lib/python3.10/dist-packages (from matplotlib!=3.6.1,>=3.1->seaborn) (0.11.0)\n",
            "Requirement already satisfied: fonttools>=4.22.0 in /usr/local/lib/python3.10/dist-packages (from matplotlib!=3.6.1,>=3.1->seaborn) (4.40.0)\n",
            "Requirement already satisfied: kiwisolver>=1.0.1 in /usr/local/lib/python3.10/dist-packages (from matplotlib!=3.6.1,>=3.1->seaborn) (1.4.4)\n",
            "Requirement already satisfied: packaging>=20.0 in /usr/local/lib/python3.10/dist-packages (from matplotlib!=3.6.1,>=3.1->seaborn) (23.1)\n",
            "Requirement already satisfied: pillow>=6.2.0 in /usr/local/lib/python3.10/dist-packages (from matplotlib!=3.6.1,>=3.1->seaborn) (8.4.0)\n",
            "Requirement already satisfied: pyparsing>=2.3.1 in /usr/local/lib/python3.10/dist-packages (from matplotlib!=3.6.1,>=3.1->seaborn) (3.1.0)\n",
            "Requirement already satisfied: python-dateutil>=2.7 in /usr/local/lib/python3.10/dist-packages (from matplotlib!=3.6.1,>=3.1->seaborn) (2.8.2)\n",
            "Requirement already satisfied: pytz>=2020.1 in /usr/local/lib/python3.10/dist-packages (from pandas>=0.25->seaborn) (2022.7.1)\n",
            "Requirement already satisfied: six>=1.5 in /usr/local/lib/python3.10/dist-packages (from python-dateutil>=2.7->matplotlib!=3.6.1,>=3.1->seaborn) (1.16.0)\n",
            "Requirement already satisfied: scipy in /usr/local/lib/python3.10/dist-packages (1.10.1)\n",
            "Requirement already satisfied: numpy<1.27.0,>=1.19.5 in /usr/local/lib/python3.10/dist-packages (from scipy) (1.22.4)\n",
            "Requirement already satisfied: Pillow in /usr/local/lib/python3.10/dist-packages (8.4.0)\n"
          ]
        }
      ],
      "source": [
        "!pip install pandas\n",
        "!pip install matplotlib\n",
        "!pip install numpy\n",
        "!pip install seaborn\n",
        "! pip install scipy\n",
        "!pip install Pillow"
      ]
    },
    {
      "cell_type": "code",
      "source": [
        "import numpy as np\n",
        "import pandas as pd\n",
        "import matplotlib.pyplot as plt\n",
        "import seaborn as sns"
      ],
      "metadata": {
        "id": "TgCxFwnWFyVw"
      },
      "execution_count": null,
      "outputs": []
    },
    {
      "cell_type": "code",
      "source": [
        "# Load tabular data (e.g., from a CSV file)\n",
        "df = pd.read_csv(r\"/content/sample_for_GAN.csv\")\n",
        "df.head()"
      ],
      "metadata": {
        "colab": {
          "base_uri": "https://localhost:8080/",
          "height": 317
        },
        "id": "hJ8MNxemGvbE",
        "outputId": "dc8e4829-4ca6-470a-e3dc-1b9d57c01311"
      },
      "execution_count": null,
      "outputs": [
        {
          "output_type": "execute_result",
          "data": {
            "text/plain": [
              "   Unnamed: 0  74.00166667  74.33339111  74.47027778  74.51222222  \\\n",
              "0   10.059167          NaN          NaN          NaN          NaN   \n",
              "1   10.142500          NaN          NaN          NaN          NaN   \n",
              "2   11.079444          NaN          NaN          NaN          NaN   \n",
              "3   11.148333          NaN          NaN          NaN          NaN   \n",
              "4   11.300219          NaN          NaN          NaN          NaN   \n",
              "\n",
              "   74.68344806  74.71678778  74.75222222  74.85014361  74.87027778  ...  \\\n",
              "0          NaN          NaN          NaN          NaN          NaN  ...   \n",
              "1          NaN          NaN          NaN          NaN          NaN  ...   \n",
              "2          NaN          NaN          NaN          NaN          NaN  ...   \n",
              "3          NaN          NaN          NaN          NaN          NaN  ...   \n",
              "4          NaN          NaN          NaN          NaN          NaN  ...   \n",
              "\n",
              "   96.06194444  96.19888889  96.31277778  96.32166667  96.43666667  \\\n",
              "0          NaN          NaN          NaN          NaN          NaN   \n",
              "1          NaN          NaN          NaN          NaN          NaN   \n",
              "2          NaN          NaN          NaN          NaN          NaN   \n",
              "3          NaN          NaN          NaN          NaN          NaN   \n",
              "4          NaN          NaN          NaN          NaN          NaN   \n",
              "\n",
              "   96.46472222  96.70805556  96.84138889  96.85138889  97.37027778  \n",
              "0          NaN          NaN          NaN          NaN          NaN  \n",
              "1          NaN          NaN          NaN          NaN          NaN  \n",
              "2          NaN          NaN          NaN          NaN          NaN  \n",
              "3          NaN          NaN          NaN          NaN          NaN  \n",
              "4          NaN          NaN          NaN          NaN          NaN  \n",
              "\n",
              "[5 rows x 385 columns]"
            ],
            "text/html": [
              "\n",
              "  <div id=\"df-92cdae5a-bcdf-4755-a2a8-09c3f1ca63c0\">\n",
              "    <div class=\"colab-df-container\">\n",
              "      <div>\n",
              "<style scoped>\n",
              "    .dataframe tbody tr th:only-of-type {\n",
              "        vertical-align: middle;\n",
              "    }\n",
              "\n",
              "    .dataframe tbody tr th {\n",
              "        vertical-align: top;\n",
              "    }\n",
              "\n",
              "    .dataframe thead th {\n",
              "        text-align: right;\n",
              "    }\n",
              "</style>\n",
              "<table border=\"1\" class=\"dataframe\">\n",
              "  <thead>\n",
              "    <tr style=\"text-align: right;\">\n",
              "      <th></th>\n",
              "      <th>Unnamed: 0</th>\n",
              "      <th>74.00166667</th>\n",
              "      <th>74.33339111</th>\n",
              "      <th>74.47027778</th>\n",
              "      <th>74.51222222</th>\n",
              "      <th>74.68344806</th>\n",
              "      <th>74.71678778</th>\n",
              "      <th>74.75222222</th>\n",
              "      <th>74.85014361</th>\n",
              "      <th>74.87027778</th>\n",
              "      <th>...</th>\n",
              "      <th>96.06194444</th>\n",
              "      <th>96.19888889</th>\n",
              "      <th>96.31277778</th>\n",
              "      <th>96.32166667</th>\n",
              "      <th>96.43666667</th>\n",
              "      <th>96.46472222</th>\n",
              "      <th>96.70805556</th>\n",
              "      <th>96.84138889</th>\n",
              "      <th>96.85138889</th>\n",
              "      <th>97.37027778</th>\n",
              "    </tr>\n",
              "  </thead>\n",
              "  <tbody>\n",
              "    <tr>\n",
              "      <th>0</th>\n",
              "      <td>10.059167</td>\n",
              "      <td>NaN</td>\n",
              "      <td>NaN</td>\n",
              "      <td>NaN</td>\n",
              "      <td>NaN</td>\n",
              "      <td>NaN</td>\n",
              "      <td>NaN</td>\n",
              "      <td>NaN</td>\n",
              "      <td>NaN</td>\n",
              "      <td>NaN</td>\n",
              "      <td>...</td>\n",
              "      <td>NaN</td>\n",
              "      <td>NaN</td>\n",
              "      <td>NaN</td>\n",
              "      <td>NaN</td>\n",
              "      <td>NaN</td>\n",
              "      <td>NaN</td>\n",
              "      <td>NaN</td>\n",
              "      <td>NaN</td>\n",
              "      <td>NaN</td>\n",
              "      <td>NaN</td>\n",
              "    </tr>\n",
              "    <tr>\n",
              "      <th>1</th>\n",
              "      <td>10.142500</td>\n",
              "      <td>NaN</td>\n",
              "      <td>NaN</td>\n",
              "      <td>NaN</td>\n",
              "      <td>NaN</td>\n",
              "      <td>NaN</td>\n",
              "      <td>NaN</td>\n",
              "      <td>NaN</td>\n",
              "      <td>NaN</td>\n",
              "      <td>NaN</td>\n",
              "      <td>...</td>\n",
              "      <td>NaN</td>\n",
              "      <td>NaN</td>\n",
              "      <td>NaN</td>\n",
              "      <td>NaN</td>\n",
              "      <td>NaN</td>\n",
              "      <td>NaN</td>\n",
              "      <td>NaN</td>\n",
              "      <td>NaN</td>\n",
              "      <td>NaN</td>\n",
              "      <td>NaN</td>\n",
              "    </tr>\n",
              "    <tr>\n",
              "      <th>2</th>\n",
              "      <td>11.079444</td>\n",
              "      <td>NaN</td>\n",
              "      <td>NaN</td>\n",
              "      <td>NaN</td>\n",
              "      <td>NaN</td>\n",
              "      <td>NaN</td>\n",
              "      <td>NaN</td>\n",
              "      <td>NaN</td>\n",
              "      <td>NaN</td>\n",
              "      <td>NaN</td>\n",
              "      <td>...</td>\n",
              "      <td>NaN</td>\n",
              "      <td>NaN</td>\n",
              "      <td>NaN</td>\n",
              "      <td>NaN</td>\n",
              "      <td>NaN</td>\n",
              "      <td>NaN</td>\n",
              "      <td>NaN</td>\n",
              "      <td>NaN</td>\n",
              "      <td>NaN</td>\n",
              "      <td>NaN</td>\n",
              "    </tr>\n",
              "    <tr>\n",
              "      <th>3</th>\n",
              "      <td>11.148333</td>\n",
              "      <td>NaN</td>\n",
              "      <td>NaN</td>\n",
              "      <td>NaN</td>\n",
              "      <td>NaN</td>\n",
              "      <td>NaN</td>\n",
              "      <td>NaN</td>\n",
              "      <td>NaN</td>\n",
              "      <td>NaN</td>\n",
              "      <td>NaN</td>\n",
              "      <td>...</td>\n",
              "      <td>NaN</td>\n",
              "      <td>NaN</td>\n",
              "      <td>NaN</td>\n",
              "      <td>NaN</td>\n",
              "      <td>NaN</td>\n",
              "      <td>NaN</td>\n",
              "      <td>NaN</td>\n",
              "      <td>NaN</td>\n",
              "      <td>NaN</td>\n",
              "      <td>NaN</td>\n",
              "    </tr>\n",
              "    <tr>\n",
              "      <th>4</th>\n",
              "      <td>11.300219</td>\n",
              "      <td>NaN</td>\n",
              "      <td>NaN</td>\n",
              "      <td>NaN</td>\n",
              "      <td>NaN</td>\n",
              "      <td>NaN</td>\n",
              "      <td>NaN</td>\n",
              "      <td>NaN</td>\n",
              "      <td>NaN</td>\n",
              "      <td>NaN</td>\n",
              "      <td>...</td>\n",
              "      <td>NaN</td>\n",
              "      <td>NaN</td>\n",
              "      <td>NaN</td>\n",
              "      <td>NaN</td>\n",
              "      <td>NaN</td>\n",
              "      <td>NaN</td>\n",
              "      <td>NaN</td>\n",
              "      <td>NaN</td>\n",
              "      <td>NaN</td>\n",
              "      <td>NaN</td>\n",
              "    </tr>\n",
              "  </tbody>\n",
              "</table>\n",
              "<p>5 rows × 385 columns</p>\n",
              "</div>\n",
              "      <button class=\"colab-df-convert\" onclick=\"convertToInteractive('df-92cdae5a-bcdf-4755-a2a8-09c3f1ca63c0')\"\n",
              "              title=\"Convert this dataframe to an interactive table.\"\n",
              "              style=\"display:none;\">\n",
              "        \n",
              "  <svg xmlns=\"http://www.w3.org/2000/svg\" height=\"24px\"viewBox=\"0 0 24 24\"\n",
              "       width=\"24px\">\n",
              "    <path d=\"M0 0h24v24H0V0z\" fill=\"none\"/>\n",
              "    <path d=\"M18.56 5.44l.94 2.06.94-2.06 2.06-.94-2.06-.94-.94-2.06-.94 2.06-2.06.94zm-11 1L8.5 8.5l.94-2.06 2.06-.94-2.06-.94L8.5 2.5l-.94 2.06-2.06.94zm10 10l.94 2.06.94-2.06 2.06-.94-2.06-.94-.94-2.06-.94 2.06-2.06.94z\"/><path d=\"M17.41 7.96l-1.37-1.37c-.4-.4-.92-.59-1.43-.59-.52 0-1.04.2-1.43.59L10.3 9.45l-7.72 7.72c-.78.78-.78 2.05 0 2.83L4 21.41c.39.39.9.59 1.41.59.51 0 1.02-.2 1.41-.59l7.78-7.78 2.81-2.81c.8-.78.8-2.07 0-2.86zM5.41 20L4 18.59l7.72-7.72 1.47 1.35L5.41 20z\"/>\n",
              "  </svg>\n",
              "      </button>\n",
              "      \n",
              "  <style>\n",
              "    .colab-df-container {\n",
              "      display:flex;\n",
              "      flex-wrap:wrap;\n",
              "      gap: 12px;\n",
              "    }\n",
              "\n",
              "    .colab-df-convert {\n",
              "      background-color: #E8F0FE;\n",
              "      border: none;\n",
              "      border-radius: 50%;\n",
              "      cursor: pointer;\n",
              "      display: none;\n",
              "      fill: #1967D2;\n",
              "      height: 32px;\n",
              "      padding: 0 0 0 0;\n",
              "      width: 32px;\n",
              "    }\n",
              "\n",
              "    .colab-df-convert:hover {\n",
              "      background-color: #E2EBFA;\n",
              "      box-shadow: 0px 1px 2px rgba(60, 64, 67, 0.3), 0px 1px 3px 1px rgba(60, 64, 67, 0.15);\n",
              "      fill: #174EA6;\n",
              "    }\n",
              "\n",
              "    [theme=dark] .colab-df-convert {\n",
              "      background-color: #3B4455;\n",
              "      fill: #D2E3FC;\n",
              "    }\n",
              "\n",
              "    [theme=dark] .colab-df-convert:hover {\n",
              "      background-color: #434B5C;\n",
              "      box-shadow: 0px 1px 3px 1px rgba(0, 0, 0, 0.15);\n",
              "      filter: drop-shadow(0px 1px 2px rgba(0, 0, 0, 0.3));\n",
              "      fill: #FFFFFF;\n",
              "    }\n",
              "  </style>\n",
              "\n",
              "      <script>\n",
              "        const buttonEl =\n",
              "          document.querySelector('#df-92cdae5a-bcdf-4755-a2a8-09c3f1ca63c0 button.colab-df-convert');\n",
              "        buttonEl.style.display =\n",
              "          google.colab.kernel.accessAllowed ? 'block' : 'none';\n",
              "\n",
              "        async function convertToInteractive(key) {\n",
              "          const element = document.querySelector('#df-92cdae5a-bcdf-4755-a2a8-09c3f1ca63c0');\n",
              "          const dataTable =\n",
              "            await google.colab.kernel.invokeFunction('convertToInteractive',\n",
              "                                                     [key], {});\n",
              "          if (!dataTable) return;\n",
              "\n",
              "          const docLinkHtml = 'Like what you see? Visit the ' +\n",
              "            '<a target=\"_blank\" href=https://colab.research.google.com/notebooks/data_table.ipynb>data table notebook</a>'\n",
              "            + ' to learn more about interactive tables.';\n",
              "          element.innerHTML = '';\n",
              "          dataTable['output_type'] = 'display_data';\n",
              "          await google.colab.output.renderOutput(dataTable, element);\n",
              "          const docLink = document.createElement('div');\n",
              "          docLink.innerHTML = docLinkHtml;\n",
              "          element.appendChild(docLink);\n",
              "        }\n",
              "      </script>\n",
              "    </div>\n",
              "  </div>\n",
              "  "
            ]
          },
          "metadata": {},
          "execution_count": 3
        }
      ]
    },
    {
      "cell_type": "code",
      "source": [
        "df.drop(df.columns[0], axis=1, inplace=True)\n",
        "df.head()"
      ],
      "metadata": {
        "colab": {
          "base_uri": "https://localhost:8080/",
          "height": 299
        },
        "id": "AGAH1yTRuXIk",
        "outputId": "04e85ecd-3fc7-4248-ba68-83704517b77f"
      },
      "execution_count": null,
      "outputs": [
        {
          "output_type": "execute_result",
          "data": {
            "text/plain": [
              "   74.00166667  74.33339111  74.47027778  74.51222222  74.68344806  \\\n",
              "0          NaN          NaN          NaN          NaN          NaN   \n",
              "1          NaN          NaN          NaN          NaN          NaN   \n",
              "2          NaN          NaN          NaN          NaN          NaN   \n",
              "3          NaN          NaN          NaN          NaN          NaN   \n",
              "4          NaN          NaN          NaN          NaN          NaN   \n",
              "\n",
              "   74.71678778  74.75222222  74.85014361  74.87027778  75.02  ...  \\\n",
              "0          NaN          NaN          NaN          NaN    NaN  ...   \n",
              "1          NaN          NaN          NaN          NaN    NaN  ...   \n",
              "2          NaN          NaN          NaN          NaN    NaN  ...   \n",
              "3          NaN          NaN          NaN          NaN    NaN  ...   \n",
              "4          NaN          NaN          NaN          NaN    NaN  ...   \n",
              "\n",
              "   96.06194444  96.19888889  96.31277778  96.32166667  96.43666667  \\\n",
              "0          NaN          NaN          NaN          NaN          NaN   \n",
              "1          NaN          NaN          NaN          NaN          NaN   \n",
              "2          NaN          NaN          NaN          NaN          NaN   \n",
              "3          NaN          NaN          NaN          NaN          NaN   \n",
              "4          NaN          NaN          NaN          NaN          NaN   \n",
              "\n",
              "   96.46472222  96.70805556  96.84138889  96.85138889  97.37027778  \n",
              "0          NaN          NaN          NaN          NaN          NaN  \n",
              "1          NaN          NaN          NaN          NaN          NaN  \n",
              "2          NaN          NaN          NaN          NaN          NaN  \n",
              "3          NaN          NaN          NaN          NaN          NaN  \n",
              "4          NaN          NaN          NaN          NaN          NaN  \n",
              "\n",
              "[5 rows x 384 columns]"
            ],
            "text/html": [
              "\n",
              "  <div id=\"df-31f67845-33b0-4310-b602-4749d810f511\">\n",
              "    <div class=\"colab-df-container\">\n",
              "      <div>\n",
              "<style scoped>\n",
              "    .dataframe tbody tr th:only-of-type {\n",
              "        vertical-align: middle;\n",
              "    }\n",
              "\n",
              "    .dataframe tbody tr th {\n",
              "        vertical-align: top;\n",
              "    }\n",
              "\n",
              "    .dataframe thead th {\n",
              "        text-align: right;\n",
              "    }\n",
              "</style>\n",
              "<table border=\"1\" class=\"dataframe\">\n",
              "  <thead>\n",
              "    <tr style=\"text-align: right;\">\n",
              "      <th></th>\n",
              "      <th>74.00166667</th>\n",
              "      <th>74.33339111</th>\n",
              "      <th>74.47027778</th>\n",
              "      <th>74.51222222</th>\n",
              "      <th>74.68344806</th>\n",
              "      <th>74.71678778</th>\n",
              "      <th>74.75222222</th>\n",
              "      <th>74.85014361</th>\n",
              "      <th>74.87027778</th>\n",
              "      <th>75.02</th>\n",
              "      <th>...</th>\n",
              "      <th>96.06194444</th>\n",
              "      <th>96.19888889</th>\n",
              "      <th>96.31277778</th>\n",
              "      <th>96.32166667</th>\n",
              "      <th>96.43666667</th>\n",
              "      <th>96.46472222</th>\n",
              "      <th>96.70805556</th>\n",
              "      <th>96.84138889</th>\n",
              "      <th>96.85138889</th>\n",
              "      <th>97.37027778</th>\n",
              "    </tr>\n",
              "  </thead>\n",
              "  <tbody>\n",
              "    <tr>\n",
              "      <th>0</th>\n",
              "      <td>NaN</td>\n",
              "      <td>NaN</td>\n",
              "      <td>NaN</td>\n",
              "      <td>NaN</td>\n",
              "      <td>NaN</td>\n",
              "      <td>NaN</td>\n",
              "      <td>NaN</td>\n",
              "      <td>NaN</td>\n",
              "      <td>NaN</td>\n",
              "      <td>NaN</td>\n",
              "      <td>...</td>\n",
              "      <td>NaN</td>\n",
              "      <td>NaN</td>\n",
              "      <td>NaN</td>\n",
              "      <td>NaN</td>\n",
              "      <td>NaN</td>\n",
              "      <td>NaN</td>\n",
              "      <td>NaN</td>\n",
              "      <td>NaN</td>\n",
              "      <td>NaN</td>\n",
              "      <td>NaN</td>\n",
              "    </tr>\n",
              "    <tr>\n",
              "      <th>1</th>\n",
              "      <td>NaN</td>\n",
              "      <td>NaN</td>\n",
              "      <td>NaN</td>\n",
              "      <td>NaN</td>\n",
              "      <td>NaN</td>\n",
              "      <td>NaN</td>\n",
              "      <td>NaN</td>\n",
              "      <td>NaN</td>\n",
              "      <td>NaN</td>\n",
              "      <td>NaN</td>\n",
              "      <td>...</td>\n",
              "      <td>NaN</td>\n",
              "      <td>NaN</td>\n",
              "      <td>NaN</td>\n",
              "      <td>NaN</td>\n",
              "      <td>NaN</td>\n",
              "      <td>NaN</td>\n",
              "      <td>NaN</td>\n",
              "      <td>NaN</td>\n",
              "      <td>NaN</td>\n",
              "      <td>NaN</td>\n",
              "    </tr>\n",
              "    <tr>\n",
              "      <th>2</th>\n",
              "      <td>NaN</td>\n",
              "      <td>NaN</td>\n",
              "      <td>NaN</td>\n",
              "      <td>NaN</td>\n",
              "      <td>NaN</td>\n",
              "      <td>NaN</td>\n",
              "      <td>NaN</td>\n",
              "      <td>NaN</td>\n",
              "      <td>NaN</td>\n",
              "      <td>NaN</td>\n",
              "      <td>...</td>\n",
              "      <td>NaN</td>\n",
              "      <td>NaN</td>\n",
              "      <td>NaN</td>\n",
              "      <td>NaN</td>\n",
              "      <td>NaN</td>\n",
              "      <td>NaN</td>\n",
              "      <td>NaN</td>\n",
              "      <td>NaN</td>\n",
              "      <td>NaN</td>\n",
              "      <td>NaN</td>\n",
              "    </tr>\n",
              "    <tr>\n",
              "      <th>3</th>\n",
              "      <td>NaN</td>\n",
              "      <td>NaN</td>\n",
              "      <td>NaN</td>\n",
              "      <td>NaN</td>\n",
              "      <td>NaN</td>\n",
              "      <td>NaN</td>\n",
              "      <td>NaN</td>\n",
              "      <td>NaN</td>\n",
              "      <td>NaN</td>\n",
              "      <td>NaN</td>\n",
              "      <td>...</td>\n",
              "      <td>NaN</td>\n",
              "      <td>NaN</td>\n",
              "      <td>NaN</td>\n",
              "      <td>NaN</td>\n",
              "      <td>NaN</td>\n",
              "      <td>NaN</td>\n",
              "      <td>NaN</td>\n",
              "      <td>NaN</td>\n",
              "      <td>NaN</td>\n",
              "      <td>NaN</td>\n",
              "    </tr>\n",
              "    <tr>\n",
              "      <th>4</th>\n",
              "      <td>NaN</td>\n",
              "      <td>NaN</td>\n",
              "      <td>NaN</td>\n",
              "      <td>NaN</td>\n",
              "      <td>NaN</td>\n",
              "      <td>NaN</td>\n",
              "      <td>NaN</td>\n",
              "      <td>NaN</td>\n",
              "      <td>NaN</td>\n",
              "      <td>NaN</td>\n",
              "      <td>...</td>\n",
              "      <td>NaN</td>\n",
              "      <td>NaN</td>\n",
              "      <td>NaN</td>\n",
              "      <td>NaN</td>\n",
              "      <td>NaN</td>\n",
              "      <td>NaN</td>\n",
              "      <td>NaN</td>\n",
              "      <td>NaN</td>\n",
              "      <td>NaN</td>\n",
              "      <td>NaN</td>\n",
              "    </tr>\n",
              "  </tbody>\n",
              "</table>\n",
              "<p>5 rows × 384 columns</p>\n",
              "</div>\n",
              "      <button class=\"colab-df-convert\" onclick=\"convertToInteractive('df-31f67845-33b0-4310-b602-4749d810f511')\"\n",
              "              title=\"Convert this dataframe to an interactive table.\"\n",
              "              style=\"display:none;\">\n",
              "        \n",
              "  <svg xmlns=\"http://www.w3.org/2000/svg\" height=\"24px\"viewBox=\"0 0 24 24\"\n",
              "       width=\"24px\">\n",
              "    <path d=\"M0 0h24v24H0V0z\" fill=\"none\"/>\n",
              "    <path d=\"M18.56 5.44l.94 2.06.94-2.06 2.06-.94-2.06-.94-.94-2.06-.94 2.06-2.06.94zm-11 1L8.5 8.5l.94-2.06 2.06-.94-2.06-.94L8.5 2.5l-.94 2.06-2.06.94zm10 10l.94 2.06.94-2.06 2.06-.94-2.06-.94-.94-2.06-.94 2.06-2.06.94z\"/><path d=\"M17.41 7.96l-1.37-1.37c-.4-.4-.92-.59-1.43-.59-.52 0-1.04.2-1.43.59L10.3 9.45l-7.72 7.72c-.78.78-.78 2.05 0 2.83L4 21.41c.39.39.9.59 1.41.59.51 0 1.02-.2 1.41-.59l7.78-7.78 2.81-2.81c.8-.78.8-2.07 0-2.86zM5.41 20L4 18.59l7.72-7.72 1.47 1.35L5.41 20z\"/>\n",
              "  </svg>\n",
              "      </button>\n",
              "      \n",
              "  <style>\n",
              "    .colab-df-container {\n",
              "      display:flex;\n",
              "      flex-wrap:wrap;\n",
              "      gap: 12px;\n",
              "    }\n",
              "\n",
              "    .colab-df-convert {\n",
              "      background-color: #E8F0FE;\n",
              "      border: none;\n",
              "      border-radius: 50%;\n",
              "      cursor: pointer;\n",
              "      display: none;\n",
              "      fill: #1967D2;\n",
              "      height: 32px;\n",
              "      padding: 0 0 0 0;\n",
              "      width: 32px;\n",
              "    }\n",
              "\n",
              "    .colab-df-convert:hover {\n",
              "      background-color: #E2EBFA;\n",
              "      box-shadow: 0px 1px 2px rgba(60, 64, 67, 0.3), 0px 1px 3px 1px rgba(60, 64, 67, 0.15);\n",
              "      fill: #174EA6;\n",
              "    }\n",
              "\n",
              "    [theme=dark] .colab-df-convert {\n",
              "      background-color: #3B4455;\n",
              "      fill: #D2E3FC;\n",
              "    }\n",
              "\n",
              "    [theme=dark] .colab-df-convert:hover {\n",
              "      background-color: #434B5C;\n",
              "      box-shadow: 0px 1px 3px 1px rgba(0, 0, 0, 0.15);\n",
              "      filter: drop-shadow(0px 1px 2px rgba(0, 0, 0, 0.3));\n",
              "      fill: #FFFFFF;\n",
              "    }\n",
              "  </style>\n",
              "\n",
              "      <script>\n",
              "        const buttonEl =\n",
              "          document.querySelector('#df-31f67845-33b0-4310-b602-4749d810f511 button.colab-df-convert');\n",
              "        buttonEl.style.display =\n",
              "          google.colab.kernel.accessAllowed ? 'block' : 'none';\n",
              "\n",
              "        async function convertToInteractive(key) {\n",
              "          const element = document.querySelector('#df-31f67845-33b0-4310-b602-4749d810f511');\n",
              "          const dataTable =\n",
              "            await google.colab.kernel.invokeFunction('convertToInteractive',\n",
              "                                                     [key], {});\n",
              "          if (!dataTable) return;\n",
              "\n",
              "          const docLinkHtml = 'Like what you see? Visit the ' +\n",
              "            '<a target=\"_blank\" href=https://colab.research.google.com/notebooks/data_table.ipynb>data table notebook</a>'\n",
              "            + ' to learn more about interactive tables.';\n",
              "          element.innerHTML = '';\n",
              "          dataTable['output_type'] = 'display_data';\n",
              "          await google.colab.output.renderOutput(dataTable, element);\n",
              "          const docLink = document.createElement('div');\n",
              "          docLink.innerHTML = docLinkHtml;\n",
              "          element.appendChild(docLink);\n",
              "        }\n",
              "      </script>\n",
              "    </div>\n",
              "  </div>\n",
              "  "
            ]
          },
          "metadata": {},
          "execution_count": 4
        }
      ]
    },
    {
      "cell_type": "code",
      "source": [
        "df=df.fillna(-1)\n",
        "df"
      ],
      "metadata": {
        "colab": {
          "base_uri": "https://localhost:8080/",
          "height": 487
        },
        "id": "WbwDHd3Q1Wg6",
        "outputId": "492e3767-1923-44fb-f88e-9ecdc7da1ed1"
      },
      "execution_count": null,
      "outputs": [
        {
          "output_type": "execute_result",
          "data": {
            "text/plain": [
              "     74.00166667  74.33339111  74.47027778  74.51222222  74.68344806  \\\n",
              "0           -1.0         -1.0         -1.0         -1.0         -1.0   \n",
              "1           -1.0         -1.0         -1.0         -1.0         -1.0   \n",
              "2           -1.0         -1.0         -1.0         -1.0         -1.0   \n",
              "3           -1.0         -1.0         -1.0         -1.0         -1.0   \n",
              "4           -1.0         -1.0         -1.0         -1.0         -1.0   \n",
              "..           ...          ...          ...          ...          ...   \n",
              "384         -1.0         -1.0         -1.0         -1.0         -1.0   \n",
              "385         -1.0         -1.0         -1.0         -1.0         -1.0   \n",
              "386         -1.0         -1.0         -1.0         -1.0         -1.0   \n",
              "387         -1.0         -1.0         -1.0         -1.0         -1.0   \n",
              "388         -1.0         -1.0         -1.0         -1.0         -1.0   \n",
              "\n",
              "     74.71678778  74.75222222  74.85014361  74.87027778  75.02  ...  \\\n",
              "0           -1.0         -1.0         -1.0         -1.0   -1.0  ...   \n",
              "1           -1.0         -1.0         -1.0         -1.0   -1.0  ...   \n",
              "2           -1.0         -1.0         -1.0         -1.0   -1.0  ...   \n",
              "3           -1.0         -1.0         -1.0         -1.0   -1.0  ...   \n",
              "4           -1.0         -1.0         -1.0         -1.0   -1.0  ...   \n",
              "..           ...          ...          ...          ...    ...  ...   \n",
              "384         -1.0         -1.0         -1.0         -1.0   -1.0  ...   \n",
              "385         -1.0         -1.0         -1.0         -1.0   -1.0  ...   \n",
              "386         -1.0         -1.0         -1.0         -1.0   -1.0  ...   \n",
              "387         -1.0         -1.0         -1.0         -1.0   -1.0  ...   \n",
              "388         -1.0         -1.0         -1.0         -1.0   -1.0  ...   \n",
              "\n",
              "     96.06194444  96.19888889  96.31277778  96.32166667  96.43666667  \\\n",
              "0           -1.0         -1.0         -1.0         -1.0         -1.0   \n",
              "1           -1.0         -1.0         -1.0         -1.0         -1.0   \n",
              "2           -1.0         -1.0         -1.0         -1.0         -1.0   \n",
              "3           -1.0         -1.0         -1.0         -1.0         -1.0   \n",
              "4           -1.0         -1.0         -1.0         -1.0         -1.0   \n",
              "..           ...          ...          ...          ...          ...   \n",
              "384         -1.0         -1.0         -1.0         -1.0         -1.0   \n",
              "385         -1.0         -1.0         -1.0         -1.0         -1.0   \n",
              "386         -1.0         -1.0         -1.0         -1.0         -1.0   \n",
              "387         -1.0         -1.0         -1.0         -1.0         -1.0   \n",
              "388         -1.0         -1.0         -1.0         -1.0         -1.0   \n",
              "\n",
              "     96.46472222  96.70805556  96.84138889  96.85138889  97.37027778  \n",
              "0           -1.0         -1.0         -1.0         -1.0         -1.0  \n",
              "1           -1.0         -1.0         -1.0         -1.0         -1.0  \n",
              "2           -1.0         -1.0         -1.0         -1.0         -1.0  \n",
              "3           -1.0         -1.0         -1.0         -1.0         -1.0  \n",
              "4           -1.0         -1.0         -1.0         -1.0         -1.0  \n",
              "..           ...          ...          ...          ...          ...  \n",
              "384         -1.0         -1.0         -1.0         -1.0         -1.0  \n",
              "385         -1.0         -1.0         -1.0         -1.0         -1.0  \n",
              "386         -1.0         -1.0         -1.0         -1.0         -1.0  \n",
              "387         -1.0         -1.0         -1.0         -1.0         -1.0  \n",
              "388         -1.0         -1.0         -1.0         -1.0         -1.0  \n",
              "\n",
              "[389 rows x 384 columns]"
            ],
            "text/html": [
              "\n",
              "  <div id=\"df-4c7e3ae5-4f53-4909-a293-58e596a814b4\">\n",
              "    <div class=\"colab-df-container\">\n",
              "      <div>\n",
              "<style scoped>\n",
              "    .dataframe tbody tr th:only-of-type {\n",
              "        vertical-align: middle;\n",
              "    }\n",
              "\n",
              "    .dataframe tbody tr th {\n",
              "        vertical-align: top;\n",
              "    }\n",
              "\n",
              "    .dataframe thead th {\n",
              "        text-align: right;\n",
              "    }\n",
              "</style>\n",
              "<table border=\"1\" class=\"dataframe\">\n",
              "  <thead>\n",
              "    <tr style=\"text-align: right;\">\n",
              "      <th></th>\n",
              "      <th>74.00166667</th>\n",
              "      <th>74.33339111</th>\n",
              "      <th>74.47027778</th>\n",
              "      <th>74.51222222</th>\n",
              "      <th>74.68344806</th>\n",
              "      <th>74.71678778</th>\n",
              "      <th>74.75222222</th>\n",
              "      <th>74.85014361</th>\n",
              "      <th>74.87027778</th>\n",
              "      <th>75.02</th>\n",
              "      <th>...</th>\n",
              "      <th>96.06194444</th>\n",
              "      <th>96.19888889</th>\n",
              "      <th>96.31277778</th>\n",
              "      <th>96.32166667</th>\n",
              "      <th>96.43666667</th>\n",
              "      <th>96.46472222</th>\n",
              "      <th>96.70805556</th>\n",
              "      <th>96.84138889</th>\n",
              "      <th>96.85138889</th>\n",
              "      <th>97.37027778</th>\n",
              "    </tr>\n",
              "  </thead>\n",
              "  <tbody>\n",
              "    <tr>\n",
              "      <th>0</th>\n",
              "      <td>-1.0</td>\n",
              "      <td>-1.0</td>\n",
              "      <td>-1.0</td>\n",
              "      <td>-1.0</td>\n",
              "      <td>-1.0</td>\n",
              "      <td>-1.0</td>\n",
              "      <td>-1.0</td>\n",
              "      <td>-1.0</td>\n",
              "      <td>-1.0</td>\n",
              "      <td>-1.0</td>\n",
              "      <td>...</td>\n",
              "      <td>-1.0</td>\n",
              "      <td>-1.0</td>\n",
              "      <td>-1.0</td>\n",
              "      <td>-1.0</td>\n",
              "      <td>-1.0</td>\n",
              "      <td>-1.0</td>\n",
              "      <td>-1.0</td>\n",
              "      <td>-1.0</td>\n",
              "      <td>-1.0</td>\n",
              "      <td>-1.0</td>\n",
              "    </tr>\n",
              "    <tr>\n",
              "      <th>1</th>\n",
              "      <td>-1.0</td>\n",
              "      <td>-1.0</td>\n",
              "      <td>-1.0</td>\n",
              "      <td>-1.0</td>\n",
              "      <td>-1.0</td>\n",
              "      <td>-1.0</td>\n",
              "      <td>-1.0</td>\n",
              "      <td>-1.0</td>\n",
              "      <td>-1.0</td>\n",
              "      <td>-1.0</td>\n",
              "      <td>...</td>\n",
              "      <td>-1.0</td>\n",
              "      <td>-1.0</td>\n",
              "      <td>-1.0</td>\n",
              "      <td>-1.0</td>\n",
              "      <td>-1.0</td>\n",
              "      <td>-1.0</td>\n",
              "      <td>-1.0</td>\n",
              "      <td>-1.0</td>\n",
              "      <td>-1.0</td>\n",
              "      <td>-1.0</td>\n",
              "    </tr>\n",
              "    <tr>\n",
              "      <th>2</th>\n",
              "      <td>-1.0</td>\n",
              "      <td>-1.0</td>\n",
              "      <td>-1.0</td>\n",
              "      <td>-1.0</td>\n",
              "      <td>-1.0</td>\n",
              "      <td>-1.0</td>\n",
              "      <td>-1.0</td>\n",
              "      <td>-1.0</td>\n",
              "      <td>-1.0</td>\n",
              "      <td>-1.0</td>\n",
              "      <td>...</td>\n",
              "      <td>-1.0</td>\n",
              "      <td>-1.0</td>\n",
              "      <td>-1.0</td>\n",
              "      <td>-1.0</td>\n",
              "      <td>-1.0</td>\n",
              "      <td>-1.0</td>\n",
              "      <td>-1.0</td>\n",
              "      <td>-1.0</td>\n",
              "      <td>-1.0</td>\n",
              "      <td>-1.0</td>\n",
              "    </tr>\n",
              "    <tr>\n",
              "      <th>3</th>\n",
              "      <td>-1.0</td>\n",
              "      <td>-1.0</td>\n",
              "      <td>-1.0</td>\n",
              "      <td>-1.0</td>\n",
              "      <td>-1.0</td>\n",
              "      <td>-1.0</td>\n",
              "      <td>-1.0</td>\n",
              "      <td>-1.0</td>\n",
              "      <td>-1.0</td>\n",
              "      <td>-1.0</td>\n",
              "      <td>...</td>\n",
              "      <td>-1.0</td>\n",
              "      <td>-1.0</td>\n",
              "      <td>-1.0</td>\n",
              "      <td>-1.0</td>\n",
              "      <td>-1.0</td>\n",
              "      <td>-1.0</td>\n",
              "      <td>-1.0</td>\n",
              "      <td>-1.0</td>\n",
              "      <td>-1.0</td>\n",
              "      <td>-1.0</td>\n",
              "    </tr>\n",
              "    <tr>\n",
              "      <th>4</th>\n",
              "      <td>-1.0</td>\n",
              "      <td>-1.0</td>\n",
              "      <td>-1.0</td>\n",
              "      <td>-1.0</td>\n",
              "      <td>-1.0</td>\n",
              "      <td>-1.0</td>\n",
              "      <td>-1.0</td>\n",
              "      <td>-1.0</td>\n",
              "      <td>-1.0</td>\n",
              "      <td>-1.0</td>\n",
              "      <td>...</td>\n",
              "      <td>-1.0</td>\n",
              "      <td>-1.0</td>\n",
              "      <td>-1.0</td>\n",
              "      <td>-1.0</td>\n",
              "      <td>-1.0</td>\n",
              "      <td>-1.0</td>\n",
              "      <td>-1.0</td>\n",
              "      <td>-1.0</td>\n",
              "      <td>-1.0</td>\n",
              "      <td>-1.0</td>\n",
              "    </tr>\n",
              "    <tr>\n",
              "      <th>...</th>\n",
              "      <td>...</td>\n",
              "      <td>...</td>\n",
              "      <td>...</td>\n",
              "      <td>...</td>\n",
              "      <td>...</td>\n",
              "      <td>...</td>\n",
              "      <td>...</td>\n",
              "      <td>...</td>\n",
              "      <td>...</td>\n",
              "      <td>...</td>\n",
              "      <td>...</td>\n",
              "      <td>...</td>\n",
              "      <td>...</td>\n",
              "      <td>...</td>\n",
              "      <td>...</td>\n",
              "      <td>...</td>\n",
              "      <td>...</td>\n",
              "      <td>...</td>\n",
              "      <td>...</td>\n",
              "      <td>...</td>\n",
              "      <td>...</td>\n",
              "    </tr>\n",
              "    <tr>\n",
              "      <th>384</th>\n",
              "      <td>-1.0</td>\n",
              "      <td>-1.0</td>\n",
              "      <td>-1.0</td>\n",
              "      <td>-1.0</td>\n",
              "      <td>-1.0</td>\n",
              "      <td>-1.0</td>\n",
              "      <td>-1.0</td>\n",
              "      <td>-1.0</td>\n",
              "      <td>-1.0</td>\n",
              "      <td>-1.0</td>\n",
              "      <td>...</td>\n",
              "      <td>-1.0</td>\n",
              "      <td>-1.0</td>\n",
              "      <td>-1.0</td>\n",
              "      <td>-1.0</td>\n",
              "      <td>-1.0</td>\n",
              "      <td>-1.0</td>\n",
              "      <td>-1.0</td>\n",
              "      <td>-1.0</td>\n",
              "      <td>-1.0</td>\n",
              "      <td>-1.0</td>\n",
              "    </tr>\n",
              "    <tr>\n",
              "      <th>385</th>\n",
              "      <td>-1.0</td>\n",
              "      <td>-1.0</td>\n",
              "      <td>-1.0</td>\n",
              "      <td>-1.0</td>\n",
              "      <td>-1.0</td>\n",
              "      <td>-1.0</td>\n",
              "      <td>-1.0</td>\n",
              "      <td>-1.0</td>\n",
              "      <td>-1.0</td>\n",
              "      <td>-1.0</td>\n",
              "      <td>...</td>\n",
              "      <td>-1.0</td>\n",
              "      <td>-1.0</td>\n",
              "      <td>-1.0</td>\n",
              "      <td>-1.0</td>\n",
              "      <td>-1.0</td>\n",
              "      <td>-1.0</td>\n",
              "      <td>-1.0</td>\n",
              "      <td>-1.0</td>\n",
              "      <td>-1.0</td>\n",
              "      <td>-1.0</td>\n",
              "    </tr>\n",
              "    <tr>\n",
              "      <th>386</th>\n",
              "      <td>-1.0</td>\n",
              "      <td>-1.0</td>\n",
              "      <td>-1.0</td>\n",
              "      <td>-1.0</td>\n",
              "      <td>-1.0</td>\n",
              "      <td>-1.0</td>\n",
              "      <td>-1.0</td>\n",
              "      <td>-1.0</td>\n",
              "      <td>-1.0</td>\n",
              "      <td>-1.0</td>\n",
              "      <td>...</td>\n",
              "      <td>-1.0</td>\n",
              "      <td>-1.0</td>\n",
              "      <td>-1.0</td>\n",
              "      <td>-1.0</td>\n",
              "      <td>-1.0</td>\n",
              "      <td>-1.0</td>\n",
              "      <td>-1.0</td>\n",
              "      <td>-1.0</td>\n",
              "      <td>-1.0</td>\n",
              "      <td>-1.0</td>\n",
              "    </tr>\n",
              "    <tr>\n",
              "      <th>387</th>\n",
              "      <td>-1.0</td>\n",
              "      <td>-1.0</td>\n",
              "      <td>-1.0</td>\n",
              "      <td>-1.0</td>\n",
              "      <td>-1.0</td>\n",
              "      <td>-1.0</td>\n",
              "      <td>-1.0</td>\n",
              "      <td>-1.0</td>\n",
              "      <td>-1.0</td>\n",
              "      <td>-1.0</td>\n",
              "      <td>...</td>\n",
              "      <td>-1.0</td>\n",
              "      <td>-1.0</td>\n",
              "      <td>-1.0</td>\n",
              "      <td>-1.0</td>\n",
              "      <td>-1.0</td>\n",
              "      <td>-1.0</td>\n",
              "      <td>-1.0</td>\n",
              "      <td>-1.0</td>\n",
              "      <td>-1.0</td>\n",
              "      <td>-1.0</td>\n",
              "    </tr>\n",
              "    <tr>\n",
              "      <th>388</th>\n",
              "      <td>-1.0</td>\n",
              "      <td>-1.0</td>\n",
              "      <td>-1.0</td>\n",
              "      <td>-1.0</td>\n",
              "      <td>-1.0</td>\n",
              "      <td>-1.0</td>\n",
              "      <td>-1.0</td>\n",
              "      <td>-1.0</td>\n",
              "      <td>-1.0</td>\n",
              "      <td>-1.0</td>\n",
              "      <td>...</td>\n",
              "      <td>-1.0</td>\n",
              "      <td>-1.0</td>\n",
              "      <td>-1.0</td>\n",
              "      <td>-1.0</td>\n",
              "      <td>-1.0</td>\n",
              "      <td>-1.0</td>\n",
              "      <td>-1.0</td>\n",
              "      <td>-1.0</td>\n",
              "      <td>-1.0</td>\n",
              "      <td>-1.0</td>\n",
              "    </tr>\n",
              "  </tbody>\n",
              "</table>\n",
              "<p>389 rows × 384 columns</p>\n",
              "</div>\n",
              "      <button class=\"colab-df-convert\" onclick=\"convertToInteractive('df-4c7e3ae5-4f53-4909-a293-58e596a814b4')\"\n",
              "              title=\"Convert this dataframe to an interactive table.\"\n",
              "              style=\"display:none;\">\n",
              "        \n",
              "  <svg xmlns=\"http://www.w3.org/2000/svg\" height=\"24px\"viewBox=\"0 0 24 24\"\n",
              "       width=\"24px\">\n",
              "    <path d=\"M0 0h24v24H0V0z\" fill=\"none\"/>\n",
              "    <path d=\"M18.56 5.44l.94 2.06.94-2.06 2.06-.94-2.06-.94-.94-2.06-.94 2.06-2.06.94zm-11 1L8.5 8.5l.94-2.06 2.06-.94-2.06-.94L8.5 2.5l-.94 2.06-2.06.94zm10 10l.94 2.06.94-2.06 2.06-.94-2.06-.94-.94-2.06-.94 2.06-2.06.94z\"/><path d=\"M17.41 7.96l-1.37-1.37c-.4-.4-.92-.59-1.43-.59-.52 0-1.04.2-1.43.59L10.3 9.45l-7.72 7.72c-.78.78-.78 2.05 0 2.83L4 21.41c.39.39.9.59 1.41.59.51 0 1.02-.2 1.41-.59l7.78-7.78 2.81-2.81c.8-.78.8-2.07 0-2.86zM5.41 20L4 18.59l7.72-7.72 1.47 1.35L5.41 20z\"/>\n",
              "  </svg>\n",
              "      </button>\n",
              "      \n",
              "  <style>\n",
              "    .colab-df-container {\n",
              "      display:flex;\n",
              "      flex-wrap:wrap;\n",
              "      gap: 12px;\n",
              "    }\n",
              "\n",
              "    .colab-df-convert {\n",
              "      background-color: #E8F0FE;\n",
              "      border: none;\n",
              "      border-radius: 50%;\n",
              "      cursor: pointer;\n",
              "      display: none;\n",
              "      fill: #1967D2;\n",
              "      height: 32px;\n",
              "      padding: 0 0 0 0;\n",
              "      width: 32px;\n",
              "    }\n",
              "\n",
              "    .colab-df-convert:hover {\n",
              "      background-color: #E2EBFA;\n",
              "      box-shadow: 0px 1px 2px rgba(60, 64, 67, 0.3), 0px 1px 3px 1px rgba(60, 64, 67, 0.15);\n",
              "      fill: #174EA6;\n",
              "    }\n",
              "\n",
              "    [theme=dark] .colab-df-convert {\n",
              "      background-color: #3B4455;\n",
              "      fill: #D2E3FC;\n",
              "    }\n",
              "\n",
              "    [theme=dark] .colab-df-convert:hover {\n",
              "      background-color: #434B5C;\n",
              "      box-shadow: 0px 1px 3px 1px rgba(0, 0, 0, 0.15);\n",
              "      filter: drop-shadow(0px 1px 2px rgba(0, 0, 0, 0.3));\n",
              "      fill: #FFFFFF;\n",
              "    }\n",
              "  </style>\n",
              "\n",
              "      <script>\n",
              "        const buttonEl =\n",
              "          document.querySelector('#df-4c7e3ae5-4f53-4909-a293-58e596a814b4 button.colab-df-convert');\n",
              "        buttonEl.style.display =\n",
              "          google.colab.kernel.accessAllowed ? 'block' : 'none';\n",
              "\n",
              "        async function convertToInteractive(key) {\n",
              "          const element = document.querySelector('#df-4c7e3ae5-4f53-4909-a293-58e596a814b4');\n",
              "          const dataTable =\n",
              "            await google.colab.kernel.invokeFunction('convertToInteractive',\n",
              "                                                     [key], {});\n",
              "          if (!dataTable) return;\n",
              "\n",
              "          const docLinkHtml = 'Like what you see? Visit the ' +\n",
              "            '<a target=\"_blank\" href=https://colab.research.google.com/notebooks/data_table.ipynb>data table notebook</a>'\n",
              "            + ' to learn more about interactive tables.';\n",
              "          element.innerHTML = '';\n",
              "          dataTable['output_type'] = 'display_data';\n",
              "          await google.colab.output.renderOutput(dataTable, element);\n",
              "          const docLink = document.createElement('div');\n",
              "          docLink.innerHTML = docLinkHtml;\n",
              "          element.appendChild(docLink);\n",
              "        }\n",
              "      </script>\n",
              "    </div>\n",
              "  </div>\n",
              "  "
            ]
          },
          "metadata": {},
          "execution_count": 5
        }
      ]
    },
    {
      "cell_type": "code",
      "source": [],
      "metadata": {
        "id": "CJMoRRMlApCE"
      },
      "execution_count": null,
      "outputs": []
    },
    {
      "cell_type": "code",
      "source": [
        "from PIL import Image\n",
        "import numpy as np"
      ],
      "metadata": {
        "id": "P_WsvRriqy10"
      },
      "execution_count": null,
      "outputs": []
    },
    {
      "cell_type": "code",
      "source": [
        "# Convert data to a NumPy array\n",
        "data_array = df.values\n",
        "# Normalize the data to [0, 1] range\n",
        "normalized_data = (data_array - np.min(data_array)) / (np.max(data_array) - np.min(data_array))\n"
      ],
      "metadata": {
        "id": "pTmUy06gNnwO"
      },
      "execution_count": null,
      "outputs": []
    },
    {
      "cell_type": "code",
      "source": [
        "data_array"
      ],
      "metadata": {
        "colab": {
          "base_uri": "https://localhost:8080/"
        },
        "id": "8E4GAtTl3JqV",
        "outputId": "b59b7ef4-e9cc-4698-dee2-0e1a3fa720fe"
      },
      "execution_count": null,
      "outputs": [
        {
          "output_type": "execute_result",
          "data": {
            "text/plain": [
              "array([[-1., -1., -1., ..., -1., -1., -1.],\n",
              "       [-1., -1., -1., ..., -1., -1., -1.],\n",
              "       [-1., -1., -1., ..., -1., -1., -1.],\n",
              "       ...,\n",
              "       [-1., -1., -1., ..., -1., -1., -1.],\n",
              "       [-1., -1., -1., ..., -1., -1., -1.],\n",
              "       [-1., -1., -1., ..., -1., -1., -1.]])"
            ]
          },
          "metadata": {},
          "execution_count": 8
        }
      ]
    },
    {
      "cell_type": "code",
      "source": [
        "#1\n",
        "# Convert data to a NumPy array\n",
        "data_array = df.values\n",
        "\n",
        "# Normalize the data to [0, 1] range\n",
        "normalized_data = (data_array - np.min(data_array)) / (np.max(data_array) - np.min(data_array))\n",
        "\n",
        "# Reshape the data to match the desired image dimensions\n",
        "image_width = 389 # Adjust this value based on the desired image width\n",
        "image_height = 384  # Adjust this value based on the desired image height\n",
        "reshaped_data = normalized_data.reshape(-1, image_width, image_height)\n",
        "\n",
        "# Create an empty image to store the tabular data\n",
        "data = np.zeros((image_width, image_height))\n",
        "#data = np.zeros((image_width, image_height, 3), dtype=np.uint8)\n",
        "\n",
        "for i in range(image_width):\n",
        "    for j in range(image_height):\n",
        "        if data_array[i][j]==-1:\n",
        "          #how to assign nan values\n",
        "           data[i][j]=np.nan\n",
        "           continue\n",
        "        else:\n",
        "           data[i, j] = reshaped_data[0,i,j]\n",
        "\n",
        "\n",
        "\n",
        "#data[0:256, 0:256] = [255, 0, 0] # red patch in upper left\n",
        "img = Image.fromarray(data, 'RGB')\n",
        "img.save('my.png')\n",
        "img.show()\n",
        "#bt with nan values also zero & can we convert normalised missing values to real"
      ],
      "metadata": {
        "colab": {
          "base_uri": "https://localhost:8080/",
          "height": 406
        },
        "id": "_ZBkhVANZo_L",
        "outputId": "c1cc8f2a-2604-4d82-e065-6ede22f10276"
      },
      "execution_count": null,
      "outputs": [
        {
          "output_type": "display_data",
          "data": {
            "text/plain": [
              "<PIL.Image.Image image mode=RGB size=384x389 at 0x7FEC83C97430>"
            ],
            "image/png": "[encoded data removed]"
          },
          "metadata": {}
        }
      ]
    },
    {
      "cell_type": "code",
      "source": [
        "#1\n",
        "# Convert data to a NumPy array\n",
        "data_array = df.values\n",
        "\n",
        "# Normalize the data to [0, 1] range\n",
        "normalized_data = (data_array - np.min(data_array)) / (np.max(data_array) - np.min(data_array))\n",
        "\n",
        "# Reshape the data to match the desired image dimensions\n",
        "image_width = 389 # Adjust this value based on the desired image width\n",
        "image_height = 384  # Adjust this value based on the desired image height\n",
        "reshaped_data = normalized_data.reshape(-1, image_width, image_height)\n",
        "\n",
        "# Create an empty image to store the tabular data\n",
        "data = np.zeros((image_width, image_height))\n",
        "#data = np.zeros((image_width, image_height, 3), dtype=np.uint8)\n",
        "\n",
        "for i in range(image_width):\n",
        "    for j in range(image_height):\n",
        "        if data_array[i][j]==-1:\n",
        "          #how to assign nan values\n",
        "           data[i][j]=np.nan\n",
        "           continue\n",
        "        else:\n",
        "           data[i, j] = normalized_data[i,j]#not [a,g,c] becoz of the way to create a empty image\n",
        "\n",
        "\n",
        "#hsl unrecognized image mode\n",
        "#data[0:256, 0:256] = [255, 0, 0] # red patch in upper left\n",
        "img = Image.fromarray(data, 'RGB')\n",
        "img.save('my.png')\n",
        "img.show()\n",
        "#bt with nan values also zero & can we convert normalised missing values to real"
      ],
      "metadata": {
        "colab": {
          "base_uri": "https://localhost:8080/",
          "height": 406
        },
        "outputId": "91eb67ad-fe55-4f39-aa1a-655585298f6f",
        "id": "qd77FdHoJZLJ"
      },
      "execution_count": null,
      "outputs": [
        {
          "output_type": "display_data",
          "data": {
            "text/plain": [
              "<PIL.Image.Image image mode=RGB size=384x389 at 0x7FEC80033250>"
            ],
            "image/png": "[encoded data removed]"
          },
          "metadata": {}
        }
      ]
    },
    {
      "cell_type": "code",
      "source": [
        "normalized_data[257][7]"
      ],
      "metadata": {
        "colab": {
          "base_uri": "https://localhost:8080/"
        },
        "id": "Uci3ipaqOu7z",
        "outputId": "95e994e0-3fa2-4c5b-b0c4-be73f9b5c7f0"
      },
      "execution_count": null,
      "outputs": [
        {
          "output_type": "execute_result",
          "data": {
            "text/plain": [
              "0.0"
            ]
          },
          "metadata": {},
          "execution_count": 27
        }
      ]
    },
    {
      "cell_type": "code",
      "source": [
        "print(normalized_data.shape)\n",
        "reshaped_data = normalized_data.reshape(-3, image_width, image_height)\n",
        "print(reshaped_data.shape)\n",
        "#normalized_data[0]\n",
        "dim=reshaped_data[0]\n",
        "dim.shape"
      ],
      "metadata": {
        "colab": {
          "base_uri": "https://localhost:8080/"
        },
        "id": "tPQwn6eyIGIp",
        "outputId": "1f3cb791-79c3-4289-b105-aa5bf42445b3"
      },
      "execution_count": null,
      "outputs": [
        {
          "output_type": "stream",
          "name": "stdout",
          "text": [
            "(389, 384)\n",
            "(1, 389, 384)\n"
          ]
        },
        {
          "output_type": "execute_result",
          "data": {
            "text/plain": [
              "(389, 384)"
            ]
          },
          "metadata": {},
          "execution_count": 11
        }
      ]
    },
    {
      "cell_type": "code",
      "source": [
        "imag = Image.open('my.png')\n",
        "imageGray = imag.convert('L')\n",
        "imageGray.show()"
      ],
      "metadata": {
        "colab": {
          "base_uri": "https://localhost:8080/",
          "height": 406
        },
        "id": "NJ0OH7SuGsM4",
        "outputId": "79f5a725-136f-41b5-9a34-c310b35e1fe4"
      },
      "execution_count": null,
      "outputs": [
        {
          "output_type": "display_data",
          "data": {
            "text/plain": [
              "<PIL.Image.Image image mode=L size=384x389 at 0x7FECB977A590>"
            ],
            "image/png": "[encoded data removed]"
          },
          "metadata": {}
        }
      ]
    },
    {
      "cell_type": "code",
      "source": [
        "!pip install image_slicer"
      ],
      "metadata": {
        "colab": {
          "base_uri": "https://localhost:8080/",
          "height": 433
        },
        "id": "r_a5jQQ4ASPh",
        "outputId": "ecd5abda-a97e-491b-a27e-de68dc6b4193"
      },
      "execution_count": null,
      "outputs": [
        {
          "output_type": "stream",
          "name": "stdout",
          "text": [
            "Collecting image_slicer\n",
            "  Downloading image_slicer-2.1.1-py2.py3-none-any.whl (8.3 kB)\n",
            "Collecting Pillow==7.2.0 (from image_slicer)\n",
            "  Downloading Pillow-7.2.0.tar.gz (39.1 MB)\n",
            "\u001b[2K     \u001b[90m━━━━━━━━━━━━━━━━━━━━━━━━━━━━━━━━━━━━━━━━\u001b[0m \u001b[32m39.1/39.1 MB\u001b[0m \u001b[31m5.7 MB/s\u001b[0m eta \u001b[36m0:00:00\u001b[0m\n",
            "\u001b[?25h  Preparing metadata (setup.py) ... \u001b[?25l\u001b[?25hdone\n",
            "Building wheels for collected packages: Pillow\n",
            "  Building wheel for Pillow (setup.py) ... \u001b[?25l\u001b[?25hdone\n",
            "  Created wheel for Pillow: filename=Pillow-7.2.0-cp310-cp310-linux_x86_64.whl size=1305644 sha256=0d9867713eb991078e175b5a6a8f013edbfb9aff406dec789b36cf3b1a2505c7\n",
            "  Stored in directory: /root/.cache/pip/wheels/fd/5c/a6/0ab3157e7e4a0ba139bd89cb1edbe0f87876cf55ef31b05d6a\n",
            "Successfully built Pillow\n",
            "Installing collected packages: Pillow, image_slicer\n",
            "  Attempting uninstall: Pillow\n",
            "    Found existing installation: Pillow 8.4.0\n",
            "    Uninstalling Pillow-8.4.0:\n",
            "      Successfully uninstalled Pillow-8.4.0\n",
            "\u001b[31mERROR: pip's dependency resolver does not currently take into account all the packages that are installed. This behaviour is the source of the following dependency conflicts.\n",
            "imageio 2.25.1 requires pillow>=8.3.2, but you have pillow 7.2.0 which is incompatible.\u001b[0m\u001b[31m\n",
            "\u001b[0mSuccessfully installed Pillow-7.2.0 image_slicer-2.1.1\n"
          ]
        },
        {
          "output_type": "display_data",
          "data": {
            "application/vnd.colab-display-data+json": {
              "pip_warning": {
                "packages": [
                  "PIL"
                ]
              }
            }
          },
          "metadata": {}
        }
      ]
    },
    {
      "cell_type": "code",
      "source": [
        "import image_slicer\n",
        "image_slicer.slice('my.png', 2)"
      ],
      "metadata": {
        "colab": {
          "base_uri": "https://localhost:8080/"
        },
        "id": "R0yq9vht1WtE",
        "outputId": "79e7d1eb-cffb-4622-cfb1-9f592a7a499f"
      },
      "execution_count": null,
      "outputs": [
        {
          "output_type": "execute_result",
          "data": {
            "text/plain": [
              "(<Tile #1 - my_01_01.png>, <Tile #2 - my_01_02.png>)"
            ]
          },
          "metadata": {},
          "execution_count": 35
        }
      ]
    },
    {
      "cell_type": "code",
      "source": [
        "img2=Image.open('my_01_02.png')\n",
        "\n",
        "img2.size"
      ],
      "metadata": {
        "id": "82TjmzEPA-ie"
      },
      "execution_count": null,
      "outputs": []
    },
    {
      "cell_type": "code",
      "source": [
        "#creating a mask\n",
        "#data2 = np.zeros((image_width, image_height))\n",
        "data2 = np.zeros((image_width, image_height, 3), dtype=np.uint8)\n",
        "\n",
        "for i in range(image_width):\n",
        "    for j in range(image_height):\n",
        "        if data_array[i][j]==-1:\n",
        "          continue\n",
        "        else:\n",
        "          data2[i, j] =[255,255,255]\n",
        "\n",
        "\n",
        "\n",
        "#data[0:256, 0:256] = [255, 0, 0] # red patch in upper left\n",
        "img2 = Image.fromarray(data2, 'RGB')\n",
        "img2.save('my2.png')\n",
        "img2.show()"
      ],
      "metadata": {
        "colab": {
          "base_uri": "https://localhost:8080/",
          "height": 406
        },
        "id": "BBhS6ZaENC7k",
        "outputId": "cb3a3d67-38ef-42e5-f3e1-592cf9d6989d"
      },
      "execution_count": null,
      "outputs": [
        {
          "output_type": "display_data",
          "data": {
            "text/plain": [
              "<PIL.Image.Image image mode=RGB size=384x389 at 0x7FEC83DCAE90>"
            ],
            "image/png": "[encoded data removed]"
          },
          "metadata": {}
        }
      ]
    },
    {
      "cell_type": "code",
      "source": [],
      "metadata": {
        "id": "43UtCAo4yesO"
      },
      "execution_count": null,
      "outputs": []
    },
    {
      "cell_type": "markdown",
      "source": [
        "end\n"
      ],
      "metadata": {
        "id": "6xWhF6fkyaXe"
      }
    },
    {
      "cell_type": "code",
      "source": [
        "#1\n",
        "# Convert data to a NumPy array\n",
        "data_array = df.values\n",
        "\n",
        "# Normalize the data to [0, 1] range\n",
        "normalized_data = (data_array - np.min(data_array)) / (np.max(data_array) - np.min(data_array))\n",
        "\n",
        "# Reshape the data to match the desired image dimensions\n",
        "image_width = 389 # Adjust this value based on the desired image width\n",
        "image_height = 384  # Adjust this value based on the desired image height\n",
        "reshaped_data = normalized_data.reshape(-1, image_width, image_height)\n",
        "\n",
        "# Create an empty image to store the tabular data\n",
        "data = np.zeros((image_width, image_height))\n",
        "#data = np.zeros((image_width, image_height, 3), dtype=np.uint8)\n",
        "\n",
        "for i in range(image_width):\n",
        "    for j in range(image_height):\n",
        "        if data_array[i][j]==-1:\n",
        "           continue\n",
        "        else:\n",
        "           data[i, j] = reshaped_data[0,i,j]\n",
        "\n",
        "\n",
        "\n",
        "#data[0:256, 0:256] = [255, 0, 0] # red patch in upper left\n",
        "img = Image.fromarray(data, 'RGB')\n",
        "img.save('my.png')\n",
        "img.show()"
      ],
      "metadata": {
        "id": "h7GQv5CK3yDb"
      },
      "execution_count": null,
      "outputs": []
    },
    {
      "cell_type": "code",
      "source": [
        "data = df"
      ],
      "metadata": {
        "id": "YhZIB-CJMede"
      },
      "execution_count": null,
      "outputs": []
    },
    {
      "cell_type": "markdown",
      "source": [
        "with mssing values=0"
      ],
      "metadata": {
        "id": "TChfZE5cXhCk"
      }
    },
    {
      "cell_type": "code",
      "source": [
        "data= data.fillna(0)\n",
        "data"
      ],
      "metadata": {
        "colab": {
          "base_uri": "https://localhost:8080/",
          "height": 182
        },
        "id": "vt8DO47yNC91",
        "outputId": "da081463-d6f3-448c-cda6-24dea77fb7e8"
      },
      "execution_count": null,
      "outputs": [
        {
          "output_type": "error",
          "ename": "AttributeError",
          "evalue": "ignored",
          "traceback": [
            "\u001b[0;31m---------------------------------------------------------------------------\u001b[0m",
            "\u001b[0;31mAttributeError\u001b[0m                            Traceback (most recent call last)",
            "\u001b[0;32m<ipython-input-83-5621ff3dde2e>\u001b[0m in \u001b[0;36m<cell line: 1>\u001b[0;34m()\u001b[0m\n\u001b[0;32m----> 1\u001b[0;31m \u001b[0mdata\u001b[0m\u001b[0;34m=\u001b[0m \u001b[0mdata\u001b[0m\u001b[0;34m.\u001b[0m\u001b[0mfillna\u001b[0m\u001b[0;34m(\u001b[0m\u001b[0;36m0\u001b[0m\u001b[0;34m)\u001b[0m\u001b[0;34m\u001b[0m\u001b[0;34m\u001b[0m\u001b[0m\n\u001b[0m\u001b[1;32m      2\u001b[0m \u001b[0mdata\u001b[0m\u001b[0;34m\u001b[0m\u001b[0;34m\u001b[0m\u001b[0m\n",
            "\u001b[0;31mAttributeError\u001b[0m: 'numpy.ndarray' object has no attribute 'fillna'"
          ]
        }
      ]
    },
    {
      "cell_type": "code",
      "source": [
        "# Convert data to a NumPy array\n",
        "data_array = df.values\n",
        "\n",
        "# Normalize the data to [0, 1] range\n",
        "normalized_data = (data_array - np.min(data_array)) / (np.max(data_array) - np.min(data_array))\n",
        "\n",
        "# Reshape the data to match the desired image dimensions\n",
        "image_width = 389 # Adjust this value based on the desired image width\n",
        "image_height = 384  # Adjust this value based on the desired image height\n",
        "reshaped_data = normalized_data.reshape(-1, image_width, image_height)\n",
        "\n",
        "# Create an empty image to store the tabular data\n",
        "image = np.zeros((image_width, image_height))\n",
        "#image = np.zeros((image_width, image_height, 3), dtype=np.uint8)\n",
        "# Iterate over the reshaped data and assign each value to the corresponding pixel\n",
        "for i in range(image_width):\n",
        "    for j in range(image_height):\n",
        "        image[i, j] = reshaped_data[0, i, j]  # Assuming we are using the first row of data\n",
        "\n",
        "# Plot the image\n",
        "plt.imshow(image, cmap='flag')\n",
        "plt.axis('off')\n",
        "plt.show()"
      ],
      "metadata": {
        "colab": {
          "base_uri": "https://localhost:8080/",
          "height": 406
        },
        "id": "TKhh-uZVG-4G",
        "outputId": "b8d4702c-ad79-4391-b668-15e614f612e8"
      },
      "execution_count": null,
      "outputs": [
        {
          "output_type": "display_data",
          "data": {
            "text/plain": [
              "<Figure size 640x480 with 1 Axes>"
            ],
            "image/png": "[encoded data removed]"
          },
          "metadata": {}
        }
      ]
    },
    {
      "cell_type": "code",
      "source": [
        "data"
      ],
      "metadata": {
        "colab": {
          "base_uri": "https://localhost:8080/"
        },
        "id": "Z304usrNLORZ",
        "outputId": "82b09087-3831-4ec8-bd92-1a96e49b6d83"
      },
      "execution_count": null,
      "outputs": [
        {
          "output_type": "execute_result",
          "data": {
            "text/plain": [
              "array([[nan, nan, nan, ..., nan, nan, nan],\n",
              "       [nan, nan, nan, ..., nan, nan, nan],\n",
              "       [nan, nan, nan, ..., nan, nan, nan],\n",
              "       ...,\n",
              "       [nan, nan, nan, ..., nan, nan, nan],\n",
              "       [nan, nan, nan, ..., nan, nan, nan],\n",
              "       [nan, nan, nan, ..., nan, nan, nan]])"
            ]
          },
          "metadata": {},
          "execution_count": 82
        }
      ]
    },
    {
      "cell_type": "code",
      "source": [
        "# Convert data to a NumPy array\n",
        "data_array = df.values\n",
        "\n",
        "# Normalize the data to [0, 1] range\n",
        "normalized_data = (data_array - np.min(data_array)) / (np.max(data_array) - np.min(data_array))\n",
        "\n",
        "# Reshape the data to match the desired image dimensions\n",
        "image_width = 100 # Adjust this value based on the desired image width\n",
        "image_height = 100  # Adjust this value based on the desired image height\n",
        "#reshaped_data = normalized_data.reshape(-1, image_width, image_height)\n",
        "\n",
        "# Create an empty image to store the tabular data\n",
        "image = np.zeros((image_width, image_height))\n",
        "\n",
        "# Iterate over the reshaped data and assign each value to the corresponding pixel\n",
        "for i in range(image_width):\n",
        "    for j in range(image_height):\n",
        "        image[i, j] =reshaped_data[0, i+100, j]  # Assuming we are using the first row of data\n",
        "\n",
        "# Plot the image\n",
        "plt.imshow(image, cmap='flag')\n",
        "plt.axis('off')\n",
        "plt.show()"
      ],
      "metadata": {
        "colab": {
          "base_uri": "https://localhost:8080/",
          "height": 406
        },
        "id": "poPhlSm86jC8",
        "outputId": "8cbbaacd-7fab-4b79-c340-e6577c03cd52"
      },
      "execution_count": null,
      "outputs": [
        {
          "output_type": "display_data",
          "data": {
            "text/plain": [
              "<Figure size 640x480 with 1 Axes>"
            ],
            "image/png": "[encoded data removed]"
          },
          "metadata": {}
        }
      ]
    },
    {
      "cell_type": "code",
      "source": [
        "reshaped_data.shape"
      ],
      "metadata": {
        "colab": {
          "base_uri": "https://localhost:8080/"
        },
        "id": "w_MwgaF27iN8",
        "outputId": "f704d57d-170a-496c-e8d4-44ee6723d88b"
      },
      "execution_count": null,
      "outputs": [
        {
          "output_type": "execute_result",
          "data": {
            "text/plain": [
              "(1, 389, 384)"
            ]
          },
          "metadata": {},
          "execution_count": 55
        }
      ]
    },
    {
      "cell_type": "code",
      "source": [
        "img = (0.0, 0.0, 0.0)"
      ],
      "metadata": {
        "id": "mlTH3DGdW2yH"
      },
      "execution_count": null,
      "outputs": []
    },
    {
      "cell_type": "markdown",
      "source": [
        "data to images\n"
      ],
      "metadata": {
        "id": "BsyWDHvaA7JQ"
      }
    },
    {
      "cell_type": "code",
      "source": [
        "pip install tab2img"
      ],
      "metadata": {
        "colab": {
          "base_uri": "https://localhost:8080/"
        },
        "id": "x8EtUiO6Bzeo",
        "outputId": "e491515d-432e-4783-8a21-6039417a5682"
      },
      "execution_count": null,
      "outputs": [
        {
          "output_type": "stream",
          "name": "stdout",
          "text": [
            "Requirement already satisfied: tab2img in /usr/local/lib/python3.10/dist-packages (0.0.2)\n"
          ]
        }
      ]
    },
    {
      "cell_type": "code",
      "source": [
        "y = df[\"YEILD/AREA\"]\n",
        "X = df.drop(columns=[\"YEILD/AREA\",\"rainfall\",\"X.x\",\"V77\",\"FREQ\",\"originalplotno\"], axis=1)"
      ],
      "metadata": {
        "id": "ADMcnhAdBQ1b"
      },
      "execution_count": null,
      "outputs": []
    },
    {
      "cell_type": "code",
      "source": [
        "from sklearn.model_selection import train_test_split\n",
        "from sklearn import preprocessing\n",
        "train_ratio = 0.90\n",
        "X_train, X_val, y_train, y_val = train_test_split(X, y, test_size=1 - train_ratio, random_state = 0)"
      ],
      "metadata": {
        "id": "EPKhjb_7BQ4B"
      },
      "execution_count": null,
      "outputs": []
    },
    {
      "cell_type": "code",
      "source": [
        "scaler = preprocessing.MinMaxScaler().fit(X_train)\n",
        "X_scaled_train = scaler.transform(X_train)\n",
        "X_scaled_val = scaler.transform(X_val)\n",
        "X_scaled_test = scaler.transform(test_df)\n",
        "y_scaler =  preprocessing.StandardScaler().fit(y_train.values.reshape(-1, 1))\n",
        "y_scaled_train = y_scaler.transform(y_train.values.reshape(-1, 1))\n",
        "y_scaled_val = y_scaler.transform(y_val.values.reshape(-1, 1))"
      ],
      "metadata": {
        "id": "FPTXqd--BQ63"
      },
      "execution_count": null,
      "outputs": []
    },
    {
      "cell_type": "code",
      "source": [
        "from tab2img.converter import Tab2Img\n",
        "model = Tab2Img()\n",
        "train_images = model.fit_transform(X_scaled_train, y_scaled_train)\n",
        "val_images = model.transform(X_scaled_val)\n",
        "test_images = model.transform(X_scaled_test)"
      ],
      "metadata": {
        "id": "135aShfOBQ90"
      },
      "execution_count": null,
      "outputs": []
    },
    {
      "cell_type": "code",
      "source": [
        "fig,ax = plt.subplots(2,5)\n",
        "for i in range(10):\n",
        "    nparray = test_images[i].reshape(17,17)\n",
        "    image = Image.fromarray(nparray * 255)\n",
        "    ax[i%2][i//2].imshow(image)\n",
        "fig.show()\n",
        "\n",
        "fig,ax = plt.subplots(2,5)\n",
        "for i in range(10):\n",
        "    nparray = train_images[i].reshape(17,17)\n",
        "    image = Image.fromarray(nparray * 255)\n",
        "    ax[i%2][i//2].imshow(image)\n",
        "fig.show()"
      ],
      "metadata": {
        "id": "LkK_2GsSBRBJ"
      },
      "execution_count": null,
      "outputs": []
    },
    {
      "cell_type": "code",
      "source": [
        "!pip install Pillow"
      ],
      "metadata": {
        "id": "NXK7lBtcaB-S"
      },
      "execution_count": null,
      "outputs": []
    },
    {
      "cell_type": "code",
      "source": [
        "from PIL import Image\n",
        "import numpy as np\n",
        "\n",
        "w, h = 512, 512\n",
        "data = np.zeros((h, w, 3), dtype=np.uint8)\n",
        "data[0:256, 0:256] = [255, 0, 0] # red patch in upper left\n",
        "img = Image.fromarray(data, 'RGB')\n",
        "img.save('my.png')\n",
        "img.show()"
      ],
      "metadata": {
        "id": "3juUcpV6aBBn"
      },
      "execution_count": null,
      "outputs": []
    },
    {
      "cell_type": "code",
      "source": [
        "def affichage(c, disp):\n",
        "    for i in range(len(c)):\n",
        "        for j in range(len(c)):\n",
        "            if c[i][j]==0:\n",
        "                disp[i][j]=[255,255,255]\n",
        "            elif c[i][j]==1:\n",
        "                disp[i][j]=[255,0,0]\n",
        "            elif c[i][j]==2:\n",
        "                disp[i][j]=[0,255,0]\n",
        "            elif c[i][j]==3:\n",
        "                disp[i][j]=[0,0,255]\n",
        "    return disp\n",
        "\n",
        "disp = affichage(c,disp)\n",
        "img = Image.fromarray(disp, 'RGB')\n",
        "img.save('affichage.png', 'png')\n",
        "img.show()"
      ],
      "metadata": {
        "id": "RCyocQ9BZg1X"
      },
      "execution_count": null,
      "outputs": []
    }
  ]
}